{
  "nbformat": 4,
  "nbformat_minor": 0,
  "metadata": {
    "colab": {
      "name": "FFNN on MNIST.ipynb",
      "version": "0.3.2",
      "provenance": []
    },
    "kernelspec": {
      "name": "python3",
      "display_name": "Python 3"
    },
    "accelerator": "GPU"
  },
  "cells": [
    {
      "metadata": {
        "id": "sxTKN2mD_13Q",
        "colab_type": "code",
        "colab": {}
      },
      "cell_type": "code",
      "source": [
        "import tensorflow as tf\n",
        "import numpy as np\n",
        "import matplotlib.pyplot as plt\n",
        "%matplotlib inline\n",
        "from tensorflow.examples.tutorials.mnist import input_data\n",
        "import warnings\n",
        "warnings.filterwarnings('ignore')"
      ],
      "execution_count": 0,
      "outputs": []
    },
    {
      "metadata": {
        "id": "E0VdbaIiAjWn",
        "colab_type": "code",
        "colab": {
          "base_uri": "https://localhost:8080/",
          "height": 90
        },
        "outputId": "6b2622dc-b1db-477e-ecf9-c640d7648466"
      },
      "cell_type": "code",
      "source": [
        "mnist = input_data.read_data_sets('/tmp/data/' , one_hot = True)"
      ],
      "execution_count": 119,
      "outputs": [
        {
          "output_type": "stream",
          "text": [
            "Extracting /tmp/data/train-images-idx3-ubyte.gz\n",
            "Extracting /tmp/data/train-labels-idx1-ubyte.gz\n",
            "Extracting /tmp/data/t10k-images-idx3-ubyte.gz\n",
            "Extracting /tmp/data/t10k-labels-idx1-ubyte.gz\n"
          ],
          "name": "stdout"
        }
      ]
    },
    {
      "metadata": {
        "id": "TTmZjc_JOcFU",
        "colab_type": "code",
        "colab": {
          "base_uri": "https://localhost:8080/",
          "height": 265
        },
        "outputId": "587674db-0e8b-492f-ced8-b0029445a474"
      },
      "cell_type": "code",
      "source": [
        "first_image = mnist.test.images[0]\n",
        "first_image = np.array(first_image, dtype='float')\n",
        "pixels = first_image.reshape((28, 28))\n",
        "plt.imshow(pixels, cmap='gray')\n",
        "plt.show()"
      ],
      "execution_count": 120,
      "outputs": [
        {
          "output_type": "display_data",
          "data": {
            "image/png": "[encoded data removed]",
            "text/plain": [
              "<Figure size 432x288 with 1 Axes>"
            ]
          },
          "metadata": {
            "tags": []
          }
        }
      ]
    },
    {
      "metadata": {
        "id": "YOYSDy9WMa6X",
        "colab_type": "code",
        "colab": {}
      },
      "cell_type": "code",
      "source": [
        "n_nodes_h1 = 500\n",
        "n_nodes_h2 = 500\n",
        "n_nodes_h3 = 500\n",
        "\n",
        "n_classes = 10\n",
        "\n",
        "batch_size = 100"
      ],
      "execution_count": 0,
      "outputs": []
    },
    {
      "metadata": {
        "id": "oSvDcigaNYeo",
        "colab_type": "code",
        "colab": {}
      },
      "cell_type": "code",
      "source": [
        "x = tf.placeholder('float' , [None , 784])\n",
        "y = tf.placeholder('float')"
      ],
      "execution_count": 0,
      "outputs": []
    },
    {
      "metadata": {
        "id": "i-J9BHMDPlv0",
        "colab_type": "code",
        "colab": {}
      },
      "cell_type": "code",
      "source": [
        "def ffnn(data):\n",
        "  \n",
        "  hidden_layer1 = {'weights':tf.Variable(tf.random_normal([784 , n_nodes_h1])),\n",
        "                  'biases':tf.Variable(tf.random_normal([n_nodes_h1]))}\n",
        "  \n",
        "  hidden_layer2 = {'weights':tf.Variable(tf.random_normal([n_nodes_h1 , n_nodes_h2])),\n",
        "                  'biases':tf.Variable(tf.random_normal([n_nodes_h2]))}\n",
        "  \n",
        "  hidden_layer3 = {'weights':tf.Variable(tf.random_normal([n_nodes_h2 , n_nodes_h3])),\n",
        "                  'biases':tf.Variable(tf.random_normal([n_nodes_h3]))}\n",
        "  \n",
        "  output_layer = {'weights':tf.Variable(tf.random_normal([n_nodes_h3 , n_classes])),\n",
        "                  'biases':tf.Variable(tf.random_normal([n_classes]))}\n",
        "  \n",
        "  layer1 = tf.add(tf.matmul(data , hidden_layer1['weights']) , hidden_layer1['biases'])\n",
        "  layer1 = tf.nn.relu(layer1)\n",
        "  \n",
        "  layer2 = tf.add(tf.matmul(layer1, hidden_layer2['weights']) , hidden_layer2['biases'])\n",
        "  layer2 = tf.nn.relu(layer2)\n",
        "  \n",
        "  layer3 = tf.add(tf.matmul(layer2 , hidden_layer3['weights']) , hidden_layer1['biases'])\n",
        "  layer3 = tf.nn.relu(layer3)\n",
        "  \n",
        "  output = tf.add(tf.matmul(layer3 , output_layer['weights']) , output_layer['biases'])\n",
        "  \n",
        "  return output\n",
        "\n",
        "\n",
        "  "
      ],
      "execution_count": 0,
      "outputs": []
    },
    {
      "metadata": {
        "id": "EZu2w2JTXjPJ",
        "colab_type": "code",
        "colab": {}
      },
      "cell_type": "code",
      "source": [
        "def train(x):\n",
        "  prediction = ffnn(x)\n",
        "  cost = tf.reduce_mean(tf.nn.softmax_cross_entropy_with_logits(logits=prediction , labels = y))\n",
        "  optimizer = tf.train.AdamOptimizer().minimize(cost)\n",
        "  \n",
        "  hm_epochs = 10\n",
        "  \n",
        "  with tf.Session() as sess:\n",
        "    sess.run(tf.global_variables_initializer())\n",
        "    \n",
        "    \n",
        "    for epochs in range(hm_epochs):\n",
        "      epoch_loss = 0\n",
        "      for _ in range(int(mnist.train.num_examples/batch_size)):\n",
        "        e_x , e_y = mnist.train.next_batch(batch_size)\n",
        "        \n",
        "        _ , c = sess.run([optimizer , cost],feed_dict= {x:e_x ,y:e_y})\n",
        "        epoch_loss+=c\n",
        "      print('Epoch' ,epochs ,'completed out of' ,hm_epochs , 'loss:' , epoch_loss)\n",
        "      correct = tf.equal(tf.argmax(prediction , 1) , tf.argmax(y,1))\n",
        "      accuracy = tf .reduce_mean(tf.cast(correct , 'float'))\n",
        "      print('Accuracy:' ,accuracy.eval({x:mnist.test.images , y:mnist.test.labels}))"
      ],
      "execution_count": 0,
      "outputs": []
    },
    {
      "metadata": {
        "id": "HlCLPeLGgQ9W",
        "colab_type": "code",
        "colab": {
          "base_uri": "https://localhost:8080/",
          "height": 381
        },
        "outputId": "7ce0dfff-abf1-42d6-de6e-36755814a0c2"
      },
      "cell_type": "code",
      "source": [
        "train(x)"
      ],
      "execution_count": 125,
      "outputs": [
        {
          "output_type": "stream",
          "text": [
            "Epoch 0 completed out of 10 loss: 1862530.8177337646\n",
            "Accuracy: 0.894\n",
            "Epoch 1 completed out of 10 loss: 387134.32040786743\n",
            "Accuracy: 0.9163\n",
            "Epoch 2 completed out of 10 loss: 207481.93899458647\n",
            "Accuracy: 0.926\n",
            "Epoch 3 completed out of 10 loss: 121208.73349952698\n",
            "Accuracy: 0.9323\n",
            "Epoch 4 completed out of 10 loss: 74430.35915762931\n",
            "Accuracy: 0.9349\n",
            "Epoch 5 completed out of 10 loss: 48397.633592065744\n",
            "Accuracy: 0.9372\n",
            "Epoch 6 completed out of 10 loss: 30493.713072198705\n",
            "Accuracy: 0.9372\n",
            "Epoch 7 completed out of 10 loss: 23007.240636900067\n",
            "Accuracy: 0.9466\n",
            "Epoch 8 completed out of 10 loss: 19126.155414283632\n",
            "Accuracy: 0.949\n",
            "Epoch 9 completed out of 10 loss: 18649.608503285584\n",
            "Accuracy: 0.9448\n"
          ],
          "name": "stdout"
        }
      ]
    }
  ]
}